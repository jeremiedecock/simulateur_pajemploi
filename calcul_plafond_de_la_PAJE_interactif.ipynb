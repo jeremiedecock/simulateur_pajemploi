{
 "cells": [
  {
   "cell_type": "markdown",
   "metadata": {},
   "source": [
    "# Calcul du plafond de la PAJE (pour une *année incomplète*)"
   ]
  },
  {
   "cell_type": "markdown",
   "metadata": {},
   "source": [
    "Simulateur pajemploi: https://www.pajemploi.urssaf.fr/pajeweb/simulerMensualisation.htm\n",
    "\n",
    "Règles de calcul: https://www.pajemploi.urssaf.fr/pajewebinfo/files/live/sites/pajewebinfo/files/contributed/pdf/employeur_ama/ExempleRemunerationAnneeIncompleteAMA.pdf"
   ]
  },
  {
   "cell_type": "code",
   "execution_count": null,
   "metadata": {},
   "outputs": [],
   "source": [
    "import math\n",
    "\n",
    "import ipywidgets\n",
    "from ipywidgets import interact"
   ]
  },
  {
   "cell_type": "code",
   "execution_count": null,
   "metadata": {},
   "outputs": [],
   "source": [
    "# Constantes ####\n",
    "\n",
    "nb_sem_par_an = 52\n",
    "plafond_journalier_euro_net = 38.12    # euro net / j"
   ]
  },
  {
   "cell_type": "code",
   "execution_count": null,
   "metadata": {},
   "outputs": [],
   "source": [
    "# Variables #####\n",
    "\n",
    "# `nb_sem_conges_payes` : nombre de semaines de congés payés i.e. nombre de semaines où l'enfant ne sera pas accueilli par le salarié pour congés payés et/ou congés sans solde\n",
    "# `nb_sem_sans_garde` : nombre de semaines où l'enfant ne sera pas confié par les parents pour d'autres motifs (congés des parents, RTT, accueil par les grands-parents, etc.)\n",
    "# `salaire_horaire_net` : le salaire horaire net\n",
    "# `nb_h_travaille_par_sem` : nombre d'heures de travail hebdomadaires\n",
    "# `nb_jrs_travaille_par_sem` : nombre de jours hebdomadaires moyen\n",
    "\n",
    "nb_sem_conges_payes = 5        # sem\n",
    "nb_jrs_travaille_par_sem = 3   # jrs / sem"
   ]
  },
  {
   "cell_type": "code",
   "execution_count": null,
   "metadata": {},
   "outputs": [],
   "source": [
    "# Résultats #####\n",
    "\n",
    "# `nb_sem_garde` : nombre de semaines de garde programmées = 52 - (`nb_sem_conges_payes` + `nb_sem_sans_garde`)\n",
    "# `nb_hrs_mensualisees` : nombre d'heures normales mensualisées\n",
    "# `nb_jrs_activite_mensuel` : nombre de jours d'activité mensualisés = `nb_sem_travail` * `nb_jrs_travaille_par_sem`\n",
    "# `salaire_net_mensuel` : salaire net total mensualisé (hors indemnités d'entretien)\n",
    "\n",
    "def calc(nb_sem_sans_garde=6, salaire_horaire_net=4., nb_hrs_travaille_par_sem=30, verbose=True):\n",
    "    # Nombre de semaines de garde programmées\n",
    "    nb_sem_travail = nb_sem_par_an - (nb_sem_conges_payes + nb_sem_sans_garde)\n",
    "    if verbose:\n",
    "        print(\"Nombre de semaines de garde programmées :\", nb_sem_travail, \"sem\")\n",
    "    \n",
    "    # Nombre d'heures normales mensualisées\n",
    "    nb_hrs_mensualisees = math.ceil(nb_hrs_travaille_par_sem * nb_sem_travail / 12.)\n",
    "    if verbose:\n",
    "        print(\"Nombre d'heures normales mensualisées :\", nb_hrs_mensualisees, \"hrs / mois\")\n",
    "\n",
    "    # Salaire net total mensualisé (hors indemnités d'entretien)\n",
    "    salaire_net_mensuel = (salaire_horaire_net * nb_hrs_travaille_par_sem * nb_sem_travail) / 12.\n",
    "    if verbose:\n",
    "        print(\"Salaire net total mensualisé (hors indemnités d'entretien) :\", salaire_net_mensuel, \"euros net / mois\")\n",
    "\n",
    "    # Nombre de jours d'activité mensualisés\n",
    "    nb_jrs_activite_mensuel = math.ceil(nb_jrs_travaille_par_sem * nb_sem_travail / 12.)\n",
    "    if verbose:\n",
    "        print(\"Nombre de jours d'activité mensualisés :\", nb_jrs_activite_mensuel, \"jrs / mois\")\n",
    "\n",
    "    # Salaire net quotidien\n",
    "    salaire_net_quotidien = salaire_net_mensuel / nb_jrs_activite_mensuel\n",
    "    if verbose:\n",
    "        print(\"Salaire net quotidien :\", salaire_net_quotidien, \"euros net / j\")\n",
    "\n",
    "    # Dépacement du plafond de la PAJE\n",
    "    depacement_euro_net_par_j = salaire_net_quotidien - plafond_journalier_euro_net\n",
    "    if verbose:\n",
    "        print()\n",
    "        if depacement_euro_net_par_j > 0:\n",
    "            print(\"DÉPACEMENT (dépacement de {:0.2f} euros net / j)\".format(depacement_euro_net_par_j))\n",
    "        else:\n",
    "            print(\"OK ({:0.2f} euros net / j en dessous du plafond)\".format(abs(depacement_euro_net_par_j)))\n",
    "\n",
    "    return depacement_euro_net_par_j"
   ]
  },
  {
   "cell_type": "code",
   "execution_count": null,
   "metadata": {},
   "outputs": [],
   "source": [
    "@interact(nb_sem_sans_garde=(0,16,1), salaire_horaire_net=(3.,5.,0.1), nb_hrs_travaille_par_sem=(20,40,1))\n",
    "def widget_callback(nb_sem_sans_garde=6, salaire_horaire_net=4., nb_hrs_travaille_par_sem=30):\n",
    "    depacement_euro_net_par_j = calc(nb_sem_sans_garde=nb_sem_sans_garde,\n",
    "                                     salaire_horaire_net=salaire_horaire_net,\n",
    "                                     nb_hrs_travaille_par_sem=nb_hrs_travaille_par_sem,\n",
    "                                     verbose=True)"
   ]
  },
  {
   "cell_type": "code",
   "execution_count": null,
   "metadata": {},
   "outputs": [],
   "source": []
  }
 ],
 "metadata": {
  "kernelspec": {
   "display_name": "Python 3",
   "language": "python",
   "name": "python3"
  },
  "language_info": {
   "codemirror_mode": {
    "name": "ipython",
    "version": 3
   },
   "file_extension": ".py",
   "mimetype": "text/x-python",
   "name": "python",
   "nbconvert_exporter": "python",
   "pygments_lexer": "ipython3",
   "version": "3.6.5"
  }
 },
 "nbformat": 4,
 "nbformat_minor": 2
}
