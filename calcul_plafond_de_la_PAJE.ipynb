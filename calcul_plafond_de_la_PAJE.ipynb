{
 "cells": [
  {
   "cell_type": "markdown",
   "metadata": {},
   "source": [
    "# Calcul du plafond de la PAJE (pour une *année incomplète*)"
   ]
  },
  {
   "cell_type": "markdown",
   "metadata": {},
   "source": [
    "Simulateur pajemploi: https://www.pajemploi.urssaf.fr/pajeweb/simulerMensualisation.htm"
   ]
  },
  {
   "cell_type": "code",
   "execution_count": null,
   "metadata": {},
   "outputs": [],
   "source": [
    "import math"
   ]
  },
  {
   "cell_type": "markdown",
   "metadata": {},
   "source": [
    "## Constantes"
   ]
  },
  {
   "cell_type": "code",
   "execution_count": null,
   "metadata": {},
   "outputs": [],
   "source": [
    "nb_sem_par_an = 52"
   ]
  },
  {
   "cell_type": "code",
   "execution_count": null,
   "metadata": {},
   "outputs": [],
   "source": [
    "plafond_journalier_euro_net = 38.12    # euro net / j"
   ]
  },
  {
   "cell_type": "markdown",
   "metadata": {},
   "source": [
    "## Variables\n",
    "\n",
    "* `nb_sem_conges_payes` : nombre de semaines de congés payés i.e. nombre de semaines où l'enfant ne sera pas accueilli par le salarié pour congés payés et/ou congés sans solde\n",
    "* `nb_sem_sans_garde` : nombre de semaines où l'enfant ne sera pas confié par les parents pour d'autres motifs (congés des parents, RTT, accueil par les grands-parents, etc.)\n",
    "* `salaire_horaire_net` : le salaire horaire net\n",
    "* `nb_h_travaille_par_sem` : nombre d'heures de travail hebdomadaires\n",
    "* `nb_jrs_travaille_par_sem` : nombre de jours hebdomadaires moyen"
   ]
  },
  {
   "cell_type": "code",
   "execution_count": null,
   "metadata": {},
   "outputs": [],
   "source": [
    "# OK\n",
    "nb_sem_conges_payes = 5  # sem\n",
    "nb_sem_sans_garde = 6    # sem\n",
    "\n",
    "salaire_horaire_net = 4.0\n",
    "nb_hrs_travaille_par_sem = 30  # hrs / sem\n",
    "nb_jrs_travaille_par_sem = 3   # jrs / sem"
   ]
  },
  {
   "cell_type": "code",
   "execution_count": null,
   "metadata": {},
   "outputs": [],
   "source": [
    "nb_sem_conges_payes = 5  # sem\n",
    "nb_sem_sans_garde = 5    # sem\n",
    "\n",
    "salaire_horaire_net = 4.0\n",
    "nb_hrs_travaille_par_sem = 30  # hrs / sem\n",
    "nb_jrs_travaille_par_sem = 3   # jrs / sem"
   ]
  },
  {
   "cell_type": "code",
   "execution_count": null,
   "metadata": {},
   "outputs": [],
   "source": [
    "# OK\n",
    "nb_sem_conges_payes = 5  # sem\n",
    "nb_sem_sans_garde = 5    # sem\n",
    "\n",
    "salaire_horaire_net = 4.0\n",
    "nb_hrs_travaille_par_sem = 29  # hrs / sem\n",
    "nb_jrs_travaille_par_sem = 3   # jrs / sem"
   ]
  },
  {
   "cell_type": "code",
   "execution_count": null,
   "metadata": {},
   "outputs": [],
   "source": [
    "# OK\n",
    "nb_sem_conges_payes = 5  # sem\n",
    "nb_sem_sans_garde = 3    # sem\n",
    "\n",
    "salaire_horaire_net = 4.0\n",
    "nb_hrs_travaille_par_sem = 29  # hrs / sem\n",
    "nb_jrs_travaille_par_sem = 3   # jrs / sem"
   ]
  },
  {
   "cell_type": "markdown",
   "metadata": {},
   "source": [
    "## Résultats\n",
    "\n",
    "* `nb_sem_garde` : nombre de semaines de garde programmées = 52 - (`nb_sem_conges_payes` + `nb_sem_sans_garde`)\n",
    "* `nb_hrs_mensualisees` : nombre d'heures normales mensualisées\n",
    "* `nb_jrs_activite_mensuel` : nombre de jours d'activité mensualisés = `nb_sem_travail` * `nb_jrs_travaille_par_sem`\n",
    "* `salaire_net_mensuel` : salaire net total mensualisé (hors indemnités d'entretien)"
   ]
  },
  {
   "cell_type": "code",
   "execution_count": null,
   "metadata": {},
   "outputs": [],
   "source": [
    "nb_sem_travail = nb_sem_par_an - (nb_sem_conges_payes + nb_sem_sans_garde)\n",
    "print(\"nb_sem_travail =\", nb_sem_travail, \"sem\")\n",
    "\n",
    "nb_hrs_mensualisees = math.ceil(nb_hrs_travaille_par_sem * nb_sem_travail / 12.)\n",
    "#nb_hrs_mensualisees = nb_hrs_travaille_par_sem * nb_sem_travail / 12.\n",
    "print(\"nb_hrs_mensualisees :\", nb_hrs_mensualisees, \"hrs / mois\")\n",
    "\n",
    "#salaire_net_mensuel = nb_hrs_mensualisees * salaire_horaire_net                  # BUG !!!\n",
    "#print(\"salaire_net_mensuel :\", salaire_net_mensuel, \"euros net / mois\")\n",
    "\n",
    "salaire_net_mensuel = (salaire_horaire_net * nb_hrs_travaille_par_sem * nb_sem_travail) / 12.\n",
    "print(\"salaire_net_mensuel :\", salaire_net_mensuel, \"euros net / mois\")\n",
    "\n",
    "nb_jrs_activite_mensuel = math.ceil(nb_jrs_travaille_par_sem * nb_sem_travail / 12.)\n",
    "#nb_jrs_activite_mensuel = nb_jrs_travaille_par_sem * nb_sem_travail / 12.\n",
    "print(\"nb_jrs_activite_mensuel :\", nb_jrs_activite_mensuel, \"jrs / mois\")\n",
    "\n",
    "salaire_net_quotidien = salaire_net_mensuel / nb_jrs_activite_mensuel\n",
    "print(\"salaire_net_quotidien :\", salaire_net_quotidien, \"euros net / j\")\n",
    "\n",
    "depacement_euro_net_par_j = salaire_net_quotidien - plafond_journalier_euro_net\n",
    "\n",
    "print()\n",
    "\n",
    "if depacement_euro_net_par_j > 0:\n",
    "    print(\"DEPACEMENT : {:0.2f} euros net / j\".format(depacement_euro_net_par_j))\n",
    "else:\n",
    "    print(\"OK ({:0.2f} euros net / j en dessous du plafond)\".format(depacement_euro_net_par_j))"
   ]
  }
 ],
 "metadata": {
  "kernelspec": {
   "display_name": "Python 3",
   "language": "python",
   "name": "python3"
  },
  "language_info": {
   "codemirror_mode": {
    "name": "ipython",
    "version": 3
   },
   "file_extension": ".py",
   "mimetype": "text/x-python",
   "name": "python",
   "nbconvert_exporter": "python",
   "pygments_lexer": "ipython3",
   "version": "3.6.5"
  }
 },
 "nbformat": 4,
 "nbformat_minor": 2
}
